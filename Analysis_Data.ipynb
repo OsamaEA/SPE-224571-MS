{
 "cells": [
  {
   "cell_type": "markdown",
   "metadata": {},
   "source": [
    "# Introduction\n",
    "This is hydraulic fracturing data analysis, for data gathered from 175 wells in the western desert in Egypt! The purpose of this analysis is to get some insights about fracturing operations in Egypt.\n",
    "\n",
    "**Questions to answer from this data analysis:**\n",
    "1. What is the most used polymer type and size?\n",
    "2. Is there a relationship between polymer type/size and pumping rate with the formation?\n",
    "3. The closure pressure, ISIP and max treating pressure for each foramtion\n",
    "4. Indication of proppant volume and slurry volume for formations.\n",
    "5. What is the relationship between max treating pressure, hhp, pumping rate and different formations?\n",
    "6. What is the relationship between fluid efficiency and other variables and its effect on max treating pressure?\n",
    "7. Does propant type/size affect closure pressure? And what role does frac type have?"
   ]
  },
  {
   "cell_type": "code",
   "execution_count": null,
   "metadata": {},
   "outputs": [],
   "source": [
    "import numpy as np\n",
    "import pandas as pd\n",
    "import matplotlib.pyplot as plt\n",
    "%matplotlib inline\n",
    "import seaborn as sns"
   ]
  },
  {
   "cell_type": "code",
   "execution_count": null,
   "metadata": {},
   "outputs": [],
   "source": [
    "df = pd.read_csv('clean_data_October_24_original.csv')\n",
    "df.head()"
   ]
  },
  {
   "cell_type": "code",
   "execution_count": null,
   "metadata": {},
   "outputs": [],
   "source": [
    "df.columns"
   ]
  },
  {
   "cell_type": "markdown",
   "metadata": {},
   "source": [
    "> First step would be to investigate the size of our dataset, some statistics the availability of data in each feature and to quickly find out which features lack data, and the correlation between different features."
   ]
  },
  {
   "cell_type": "markdown",
   "metadata": {},
   "source": [
    "# 1.  Data Cleaning"
   ]
  },
  {
   "cell_type": "markdown",
   "metadata": {},
   "source": [
    "### A) A quick look over the dataset"
   ]
  },
  {
   "cell_type": "code",
   "execution_count": null,
   "metadata": {},
   "outputs": [],
   "source": [
    "# Getting the total number of null values in the dataset and then extract the non-null values\n",
    "available_data = (len(df) - pd.isnull(df).sum().sort_values(ascending = False))\n",
    "# Plotting features vs. available data on a bar plot\n",
    "plt.figure(figsize = (12,8))\n",
    "available_data.plot(kind = 'barh')\n",
    "#plt.xticks(np.arange(0,1.1,0.1))\n",
    "plt.xlabel('Non-Null count')\n",
    "plt.ylabel('Features')\n",
    "plt.title('Non-Null data valeus for each feature for 175 data points');"
   ]
  },
  {
   "cell_type": "markdown",
   "metadata": {},
   "source": [
    "**We can here find ou that out of 175 data points and 20 features, we can see that:** \n",
    "* 14 features have more than 70% (or 125 data points) of the dataset with non null data that we could readily use.\n",
    "* 3 features have around 30% (or 50 data points) of the dataset with non null values.\n",
    "* 2 features have around 20% (or 30 data points) of the dataset with non null values.\n",
    "* 1 feature has only one data point, which we should ignore right now till we gather further data."
   ]
  },
  {
   "cell_type": "code",
   "execution_count": null,
   "metadata": {},
   "outputs": [],
   "source": [
    "# Shape of our dataset\n",
    "print('There are %d data observations and %d features in our dataset!'%(df.shape[0], df.shape[1]))"
   ]
  },
  {
   "cell_type": "markdown",
   "metadata": {},
   "source": [
    "### B) quick statistical analysis"
   ]
  },
  {
   "cell_type": "code",
   "execution_count": null,
   "metadata": {},
   "outputs": [],
   "source": [
    "# statistical data for numeric values\n",
    "numerical_describe = df.describe()\n",
    "numerical_describe"
   ]
  },
  {
   "cell_type": "code",
   "execution_count": null,
   "metadata": {},
   "outputs": [],
   "source": [
    "pd.set_option('display.max_columns', None)"
   ]
  },
  {
   "cell_type": "code",
   "execution_count": null,
   "metadata": {},
   "outputs": [],
   "source": [
    "df[df.success == 1].describe()"
   ]
  },
  {
   "cell_type": "code",
   "execution_count": null,
   "metadata": {},
   "outputs": [],
   "source": [
    "df[df.success == 0].describe()"
   ]
  },
  {
   "cell_type": "code",
   "execution_count": null,
   "metadata": {},
   "outputs": [],
   "source": [
    "# statistical data for categorical values\n",
    "categorical_describe = df.describe(include = [object])\n",
    "categorical_describe.loc['percentage',:] = categorical_describe.loc['freq', :]/categorical_describe.loc['count', :]\n",
    "categorical_describe"
   ]
  },
  {
   "cell_type": "code",
   "execution_count": null,
   "metadata": {},
   "outputs": [],
   "source": [
    "df[df.success == 0]['formation'].value_counts()"
   ]
  },
  {
   "cell_type": "code",
   "execution_count": null,
   "metadata": {},
   "outputs": [],
   "source": [
    "df[df.success == 1]['formation'].value_counts()"
   ]
  },
  {
   "cell_type": "code",
   "execution_count": null,
   "metadata": {},
   "outputs": [],
   "source": [
    "df[df.success == 1][categorical_features].value_counts()"
   ]
  },
  {
   "cell_type": "markdown",
   "metadata": {},
   "source": [
    "**From quick statisitcal analysis, we can find out the following points:**\n",
    "1. Most frac jobs are performed for perforation intervals with average of 28 ft, yet some intervals exceeded 100 ft so we need to check the performance of frac job in such exceptional jobs!\n",
    "2. Various frac jobs had wide standard deviation of the pad volume pumped that varies up to 270,000 gal! We might be interested to investigate the reason for this large variety and whether it is related to job size or job conditions!\n",
    "3. Again, we can see that 75% of proppant mass pumped did not exceed 100,000 lbs yet sime of them reached 600,000 lb and on the other hand, some operations used only 1000 lbs of proppant which need frther investigation.\n",
    "4. Closure pressures range between 2000 to 12,000 psig, and similarly is max treating pressure and less likely is ISIP !\n",
    "5. Fluid efficiency ranged from 22% to 78%, HHP ranged from 500 to 15,000 hp while slurry average pumping rate was 28 bpm.\n",
    "6. 85% (or 142 out of 166) of the avaialble frac jobs are successful jobs.\n",
    "7. There are 11 types of proppant used yet Ceramics is the most used proppant type and it accounts for 51% (or 64 out of 124) of all proppants used.\n",
    "8. There are 10 mesh sizes used while some jobs included various mesh sizes where the most used proppant size is 16/13 and it represents 57% (or 71 out of 124) mesh sizes use.\n",
    "9. All jobs are carried out by two different service companies, where Schlumberger accounted for 68% of the jobs (or 120 out of 175 jobs).\n",
    "10. Frac jobs are mainly used along 6 different formations while ARG is the most fractured zone as it accoutns for 43% (or 71/163) of total jobs."
   ]
  },
  {
   "cell_type": "markdown",
   "metadata": {},
   "source": [
    "### C) correlation Matrix"
   ]
  },
  {
   "cell_type": "code",
   "execution_count": null,
   "metadata": {},
   "outputs": [],
   "source": [
    "# Assigning numerical and categorical features to use later\n",
    "numerical_features = ['pad_volume_gal', 'slurry_vol_gal', 'pad_perc_as_fraction', 'propp_mass_lb', 'propp_mass_design_lb', \n",
    "                      'max_surface_prop_conc_ppa', 'closure_pressure_psig',  'net_pressure_psig', 'BHISIP_psig', \n",
    "                      'max_treating_pressure_psig', 'perf_friction_psig', 'near_wellbore_friction', 'avg_hhp', 'slurry_rate_bpm',\n",
    "                      'frac_width_ft', 'frac_half_length_ft', 'frac_height_ft', 'avg_conductivity_md_ft', \n",
    "                      'dimensionless_effectived_fcd', 'gel_retained_factor', 'gel_concentration_lb_mgal']\n",
    "categorical_features = ['proppant_type', 'service_company', 'proppant_size', 'main_formation', 'frac_type']"
   ]
  },
  {
   "cell_type": "code",
   "execution_count": null,
   "metadata": {},
   "outputs": [],
   "source": [
    "# Correlation matrix for categorical data\n",
    "# Cramer's V method is used here to find correlation between categorical data\n",
    "# https://towardsdatascience.com/the-search-for-categorical-correlation-a1cf7f1888c9\n",
    "def cramers_v(x, y):\n",
    "    import scipy.stats as ss\n",
    "    confusion_matrix = pd.crosstab(x,y)\n",
    "    chi2 = ss.chi2_contingency(confusion_matrix)[0]\n",
    "    n = confusion_matrix.sum().sum()\n",
    "    phi2 = chi2/n\n",
    "    r,k = confusion_matrix.shape\n",
    "    phi2corr = max(0, phi2-((k-1)*(r-1))/(n-1))\n",
    "    rcorr = r-((r-1)**2)/(n-1)\n",
    "    kcorr = k-((k-1)**2)/(n-1)\n",
    "    return np.sqrt(phi2corr/min((kcorr-1),(rcorr-1)))\n",
    "\n",
    "def corr_cat(df, data):\n",
    "    import itertools\n",
    "    # COlumns to generate correlation matrix\n",
    "    cols = data\n",
    "    # Making zeros matrix with the length of items\n",
    "    corrM = np.zeros((len(cols),len(cols)))\n",
    "    # iterations through all possible two combinations of the list\n",
    "    for col1, col2 in itertools.combinations(cols, 2):\n",
    "        # Setting the index name\n",
    "        idx1, idx2 = cols.index(col1), cols.index(col2)\n",
    "        # Calculating the corr using the defined function\n",
    "        corrM[idx1, idx2] = cramers_v(df[col1], df[col2])\n",
    "        # To have all values witth same number of decimals\n",
    "        corrM[idx2, idx1] = corrM[idx1, idx2]\n",
    "\n",
    "    # Now we have our matrix\n",
    "    corr = (pd.DataFrame(corrM, index=cols, columns=cols)).T\n",
    "    return(corr)"
   ]
  },
  {
   "cell_type": "code",
   "execution_count": null,
   "metadata": {},
   "outputs": [],
   "source": [
    "# Creating Correlation matrix for numerical features\n",
    "numerical_correlation_matrix = df[numerical_features].corr()\n",
    "numerical_mask = np.zeros_like(numerical_correlation_matrix)\n",
    "numerical_mask[np.triu_indices_from(numerical_mask)] = True\n",
    "# Plotting correlation matrix as a triu\n",
    "plt.figure(figsize = (20,8))\n",
    "sns.heatmap(numerical_correlation_matrix#, mask = numerical_mask\n",
    "            , annot = True, cmap = 'coolwarm');\n",
    "plt.title('Correlation Matrix among numerical features for Frac job');"
   ]
  },
  {
   "cell_type": "code",
   "execution_count": null,
   "metadata": {},
   "outputs": [],
   "source": [
    "# Creating Correlation matrix for numerical features\n",
    "categorical_correlation_matrix = corr_cat(df, categorical_features)\n",
    "categorical_mask = np.zeros_like(categorical_correlation_matrix)\n",
    "categorical_mask[np.triu_indices_from(categorical_mask)] = True\n",
    "# Plotting correlation matrix as a triu\n",
    "plt.figure(figsize = (12,8))\n",
    "sns.heatmap(categorical_correlation_matrix, mask = categorical_mask, annot = True, cmap = 'coolwarm');\n",
    "plt.title('Correlation Matrix among categorical features for Frac job');"
   ]
  },
  {
   "cell_type": "markdown",
   "metadata": {},
   "source": [
    "**From the correlation matrix, we can see some insights from the available data such that:** \n",
    "* Success: it is kind of negatively related to pressure readings of (closure - ISIP - max treating) and HHP.\n",
    "* HHP: strongly correlated to pressure readings, pumping rate and pad voume design.\n",
    "* Fluid efficiency: It is almost not correlated to other features yet weakly negatively correlated to proppant mass pumped!\n",
    "* Proppant mass design: weak correlation to other features, and strongly correlated to the actual pumped proppant\"logically\"!\n",
    "* Proppant mass pumped: very strongly correlated to slurry pumped volume \"logically\"!\n",
    "* Pad volume: intermediately positively correlated with HHP, max treating pressure and slurry volume \"Surprisngly not a strong correlation\", yet there is a slight negative trned with success of the operation.\n",
    "* Slurry volume: an intermediate positive rleationship with slurry pumping rate, which makes sense since it is required to finish the operation ASAP.\n",
    "* Closure pressure / Max treating pressure: There is a srong correlation with HHP, and max treating pressure yet a strong negative correlation with the success of the operation.\n",
    "* Service company: we can see it is strongly affects the proppant type \"logical\"! and it less likely determines the proppant size. Yet, we can see that service companies operations kind of dependent on the foramtion type! "
   ]
  },
  {
   "cell_type": "markdown",
   "metadata": {},
   "source": [
    "**Correlation Matrix Notes:**\n",
    "1. Throughout 120 observations, proppant mass pumped and (prop mass design - max proppant concentration PPA) are strongly correalted. As well, Throughout 49 observations, we can see that slurry volume and prop mass pumped are strongly correlated\n",
    "2. Throughout 27 observations, we can see that Max treating pressure and all (BHISIP - closure pressure) vales are strongly correlated.\n",
    "3. Service company is strongly correlated to the commercial name of the proppant type.\n",
    "\n",
    "**Conclusion:**\n",
    "* we will drop closure pressure, BHSIP, slurry volume, ppa, prop design, service company name\n",
    "\n",
    "**Combinations:**\n",
    "1. we will combine near wellbore friction with perforation friction as a new total friction value.\\\n",
    "2. we will drop reservoir pressure, frac gradient and closure pressure gradient for rare available data"
   ]
  },
  {
   "cell_type": "code",
   "execution_count": null,
   "metadata": {},
   "outputs": [],
   "source": [
    "df.drop(['pad_volume_gal', 'service_company', 'formation', 'propp_mass_design_lb', 'max_surface_prop_conc_ppa',\n",
    "         'slurry_vol_gal', 'BHISIP_psig', 'closure_pressure_psig', 'closure_gradient_psi_ft',\n",
    "         'frac_gradient_psi_ft', 'reservoir_pressure_psig', 'surface_isip_psig'], axis =1, inplace = True)"
   ]
  },
  {
   "cell_type": "code",
   "execution_count": null,
   "metadata": {},
   "outputs": [],
   "source": [
    "df['year'] = pd.DatetimeIndex(df['date']).year\n",
    "bins = [2007, 2013, 2016, 2020]\n",
    "names = ['08 to 13', '14 to 16', '17 to 20']\n",
    "df['year'] = pd.cut(df['year'], bins, labels=names)"
   ]
  },
  {
   "cell_type": "markdown",
   "metadata": {},
   "source": [
    "# Clean Dataset"
   ]
  },
  {
   "cell_type": "code",
   "execution_count": null,
   "metadata": {},
   "outputs": [],
   "source": [
    "df = df[df['net_pressure_psig'].notna()]"
   ]
  },
  {
   "cell_type": "code",
   "execution_count": null,
   "metadata": {},
   "outputs": [],
   "source": [
    "df = df[df['proppant_type'].notna()]"
   ]
  },
  {
   "cell_type": "code",
   "execution_count": null,
   "metadata": {},
   "outputs": [],
   "source": [
    "df.head()"
   ]
  },
  {
   "cell_type": "code",
   "execution_count": null,
   "metadata": {},
   "outputs": [],
   "source": [
    "# Getting the total number of null values in the dataset and then extract the non-null values\n",
    "available_data = (len(df) - pd.isnull(df).sum().sort_values(ascending = False))\n",
    "# Plotting features vs. available data on a bar plot\n",
    "plt.figure(figsize = (12,8))\n",
    "available_data.plot(kind = 'barh')\n",
    "#plt.xticks(np.arange(0,1.1,0.1))\n",
    "plt.xlabel('Non-Null count')\n",
    "plt.ylabel('Features')\n",
    "plt.title('Non-Null data valeus for each feature for 175 data points');"
   ]
  },
  {
   "cell_type": "code",
   "execution_count": null,
   "metadata": {},
   "outputs": [],
   "source": [
    "pairplot_data = df[['success', 'propp_mass_lb', 'net_pressure_psig', 'slurry_rate_bpm',\n",
    "                    'max_treating_pressure_psig', 'avg_hhp', 'fluid_eff_frac', 'frac_height_ft',\n",
    "                    'frac_half_length_ft', 'avg_conductivity_md_ft', 'gel_retained_factor', 'perf_friction_psig', 'near_wellbore_friction',\n",
    "                    'frac_type', 'proppant_type', 'proppant_size', 'main_formation']]"
   ]
  },
  {
   "cell_type": "code",
   "execution_count": null,
   "metadata": {
    "scrolled": false
   },
   "outputs": [],
   "source": [
    "sns.pairplot(pairplot_data, hue = 'success');"
   ]
  },
  {
   "cell_type": "code",
   "execution_count": null,
   "metadata": {
    "scrolled": true
   },
   "outputs": [],
   "source": [
    "sns.pairplot(pairplot_data, hue = 'service_company');"
   ]
  },
  {
   "cell_type": "code",
   "execution_count": null,
   "metadata": {
    "scrolled": true
   },
   "outputs": [],
   "source": [
    "sns.pairplot(pairplot_data, hue = 'proppant_size');"
   ]
  },
  {
   "cell_type": "code",
   "execution_count": null,
   "metadata": {
    "scrolled": true
   },
   "outputs": [],
   "source": [
    "sns.pairplot(pairplot_data, hue = 'main_formation');"
   ]
  },
  {
   "cell_type": "code",
   "execution_count": null,
   "metadata": {
    "scrolled": true
   },
   "outputs": [],
   "source": [
    "pairplot_data = df[['propp_mass_lb', 'net_pressure_psig', 'slurry_rate_bpm',\n",
    "                    'max_treating_pressure_psig', 'avg_hhp', 'fluid_eff_frac', 'frac_height_ft',\n",
    "                    'frac_half_length_ft', 'avg_conductivity_md_ft', 'gel_retained_factor', 'perf_friction_psig', 'near_wellbore_friction',\n",
    "                    'success', 'frac_type', 'proppant_type', 'proppant_size', 'main_formation', 'service_company']]\n",
    "sns.pairplot(pairplot_data, hue = 'success');"
   ]
  },
  {
   "cell_type": "markdown",
   "metadata": {},
   "source": [
    "# Insights"
   ]
  },
  {
   "cell_type": "code",
   "execution_count": null,
   "metadata": {
    "scrolled": true
   },
   "outputs": [],
   "source": [
    "# Histogram fo various features\n",
    "df.hist(figsize = (20,20), layout = (6,5));\n",
    "plt.title('Histogram of different features');"
   ]
  },
  {
   "cell_type": "code",
   "execution_count": null,
   "metadata": {},
   "outputs": [],
   "source": [
    "numerical_data = ['perf_interval_ft','propp_mass_lb', 'max_treating_pressure_psig','perf_friction_psig', 'slurry_rate_bpm',\n",
    "                  'fluid_eff_frac', 'avg_hhp', 'near_wellbore_friction', 'frac_half_length_ft', 'frac_height_ft', \n",
    "                  'frac_width_ft', 'pad_perc_as_fraction', 'avg_conductivity_md_ft', 'dimensionless_effectived_fcd',\n",
    "                  'net_pressure_psig', 'gel_retained_factor', 'gel_concentration_lb_mgal', 'propped_width_in']\n",
    "\n",
    "categorical_data = ['success', 'proppant_type', 'proppant_size', 'frac_type', 'main_formation', 'year']"
   ]
  },
  {
   "cell_type": "code",
   "execution_count": null,
   "metadata": {},
   "outputs": [],
   "source": [
    "def compare_effects(df, numerical_independent, categorical_hue, dependent_variable, fig_dimensions = (25,75)):\n",
    "    '''\n",
    "        INPUT:\n",
    "        df: dataframe\n",
    "        numerical_independent: factor which we measure against other categorical variables\n",
    "        categorical_hue: categorical variablees we plot against\n",
    "        dependent_variable: out main target to evaluate\n",
    "        log_scale: whether you need to transform x axis into logarithmic scale or not\n",
    "        OUTPUT:\n",
    "        scatter plots\n",
    "                                                                            '''\n",
    "    fig = plt.figure(figsize = fig_dimensions)\n",
    "    i = 0\n",
    "    for cat in categorical_hue:\n",
    "        # To show only values present in each category\n",
    "        hue = df.query('{} != \"nan\"'.format(dependent_variable))[cat]\n",
    "        i = i + 1\n",
    "        ax = fig.add_subplot(len(numerical_independent), len(categorical_hue)/2, i)      \n",
    "        sns.scatterplot(data = df, x = numerical_independent, y = dependent_variable, hue = hue)\n",
    "        plt.suptitle('{} vs {} and {}'.format(dependent_variable, numerical_independent, cat), y = 0.89)\n",
    "        if df[numerical_independent].max() - df[numerical_independent].min() > 1000:\n",
    "            ax.set_xscale('log')\n",
    "        "
   ]
  },
  {
   "cell_type": "code",
   "execution_count": null,
   "metadata": {
    "scrolled": true
   },
   "outputs": [],
   "source": [
    "for col in numerical_data:\n",
    "    compare_effects(df, col, categorical_data, 'propp_mass_lb')"
   ]
  },
  {
   "cell_type": "code",
   "execution_count": null,
   "metadata": {
    "scrolled": true
   },
   "outputs": [],
   "source": [
    "for col in numerical_data:\n",
    "    compare_effects(df, col, categorical_data, 'perf_friction_psig')"
   ]
  },
  {
   "cell_type": "code",
   "execution_count": null,
   "metadata": {
    "scrolled": true
   },
   "outputs": [],
   "source": [
    "for col in numerical_data:\n",
    "    compare_effects(df, col, categorical_data, 'slurry_rate_bpm')"
   ]
  },
  {
   "cell_type": "code",
   "execution_count": null,
   "metadata": {
    "scrolled": true
   },
   "outputs": [],
   "source": [
    "for col in numerical_data:\n",
    "    compare_effects(df, col, categorical_data, 'fluid_eff_frac')"
   ]
  },
  {
   "cell_type": "code",
   "execution_count": null,
   "metadata": {
    "scrolled": true
   },
   "outputs": [],
   "source": [
    "for col in numerical_data:\n",
    "    compare_effects(df, col, categorical_data, 'near_wellbore_friction')"
   ]
  },
  {
   "cell_type": "code",
   "execution_count": null,
   "metadata": {
    "scrolled": true
   },
   "outputs": [],
   "source": [
    "for col in numerical_data:\n",
    "    compare_effects(df, col, categorical_data, 'pad_perc_as_fraction')"
   ]
  },
  {
   "cell_type": "code",
   "execution_count": null,
   "metadata": {
    "scrolled": true
   },
   "outputs": [],
   "source": [
    "for col in numerical_data:\n",
    "    compare_effects(df, col, categorical_data, 'net_pressure_psig')"
   ]
  },
  {
   "cell_type": "code",
   "execution_count": null,
   "metadata": {
    "scrolled": true
   },
   "outputs": [],
   "source": [
    "for col in numerical_data:\n",
    "    compare_effects(df, col, categorical_data, 'gel_retained_factor')"
   ]
  },
  {
   "cell_type": "code",
   "execution_count": null,
   "metadata": {
    "scrolled": true
   },
   "outputs": [],
   "source": [
    "for col in numerical_data:\n",
    "    compare_effects(df, col, categorical_data, 'propped_width_in')"
   ]
  },
  {
   "cell_type": "code",
   "execution_count": null,
   "metadata": {},
   "outputs": [],
   "source": [
    "for col in numerical_data:\n",
    "    compare_effects(df, col, categorical_data, 'dimensionless_effectived_fcd')"
   ]
  },
  {
   "cell_type": "code",
   "execution_count": null,
   "metadata": {
    "scrolled": true
   },
   "outputs": [],
   "source": [
    "for col in numerical_data:\n",
    "    compare_effects(df, col, categorical_data, 'avg_conductivity_md_ft')"
   ]
  },
  {
   "cell_type": "code",
   "execution_count": null,
   "metadata": {
    "scrolled": true
   },
   "outputs": [],
   "source": [
    "for col in numerical_data:\n",
    "    compare_effects(df, col, categorical_data, 'frac_width_ft')"
   ]
  },
  {
   "cell_type": "code",
   "execution_count": null,
   "metadata": {
    "scrolled": true
   },
   "outputs": [],
   "source": [
    "for col in numerical_data:\n",
    "    compare_effects(df, col, categorical_data, 'frac_height_ft')"
   ]
  },
  {
   "cell_type": "code",
   "execution_count": null,
   "metadata": {
    "scrolled": true
   },
   "outputs": [],
   "source": [
    "for col in numerical_data:\n",
    "    compare_effects(df, col, categorical_data, 'gel_concentration_lb_mgal')"
   ]
  },
  {
   "cell_type": "code",
   "execution_count": null,
   "metadata": {
    "scrolled": true
   },
   "outputs": [],
   "source": [
    "for col in numerical_data:\n",
    "    compare_effects(df, col, categorical_data, 'max_treating_pressure_psig')"
   ]
  },
  {
   "cell_type": "markdown",
   "metadata": {},
   "source": [
    "**Conclusion**\n",
    "1. For the same net pressure, Proppant size of 16/30 resulted in the highest slurry pumping rate & avg. HHP while proppant size of 12/18 required the least to achieve.\n",
    "2. For the same fluid efficiency, Proppant size of 20/40 results in the highest max treating surfcace pressure while 12/18 resulted in the lowest values.\n",
    "3. With other variables constant, Proppant size 12/18 resulted in the highest average conductivity.\n",
    "4. With other variables constant, Conventional frac results in the highest slurry pumping rate while hiway required the least.\n",
    "5. For the same frac dimensions and conductivity, Bahareya requires the lowest HHP and gel concentration, resulted in the lowest (net pressure / max treating sufrace pressure).\n",
    "---------------------------------\n",
    "**Comments**\n",
    "* For the same pumped mass proppant, it is clear that size of 20/40 results in the highest max treating surfcace pressure.\n",
    "* For the same pumping slurry rate, it is clear that size of 20/40 results in the highest max treating surfcace pressure.\n",
    "* For the same fluid efficiency, it is clear that size of 20/40 results in the highest max treating surfcace pressure while 16/30 proppant size results in max treating pressure much higher than 12/18. Proppant size of 12/18 resulted in the highest average conductivity. Bahareya requirered the minimum gel concentration.\n",
    "* For the samee net pressure values, it is clear that conventional frac type resulted in the highest slurry pumping rate while hiway required the least. As well, proppant size of 16/30 resulted in the highest slurry pumping rate & avg. HHP while proppant size of 12/18 required the least. proppant size of 12/18 resulted in the highest conductivity.\n",
    "* For the same gel retained factor, Hiway fracture requires the least slurry pumping rate. proppant size of 12/18 results in the higheest conductivitiy.\n",
    "* For the same dimensionless fcd, Bahareya requires the lowest HHP and the lowest net pressure.\n",
    "* For the same frach height, Hiway required the highest gel retained factor"
   ]
  },
  {
   "cell_type": "markdown",
   "metadata": {},
   "source": [
    "# Q0:\n",
    "**Does success rate of different frac jobs depend on the formation?**"
   ]
  },
  {
   "cell_type": "code",
   "execution_count": null,
   "metadata": {},
   "outputs": [],
   "source": [
    "# Conversion rate for frac jobs among different formations\n",
    "conversion_rate = pd.DataFrame(df.groupby('main_formation')['success'].value_counts(0).rename('jobs'))\n",
    "conversion_rate"
   ]
  },
  {
   "cell_type": "markdown",
   "metadata": {},
   "source": [
    "We can readily see that the success of frac jobs in different formations vaired such that:\n",
    "* Apollonia success rate is 100% (3/3)\n",
    "* Bahareya success rate is 91.3% (42/46)\n",
    "* ARG success rate is 90.14% (64/71)\n",
    "* AR success rate is 76.92% (10/13)\n",
    "* Safa success rate is 68.75% (11/16)\n",
    "* Kharite success rate is 33.33% (2/6)"
   ]
  },
  {
   "cell_type": "markdown",
   "metadata": {},
   "source": [
    "# Q1:\n",
    "**What is the most used polymer type and size?**"
   ]
  },
  {
   "cell_type": "code",
   "execution_count": null,
   "metadata": {},
   "outputs": [],
   "source": [
    "# Making a pre-defined function to plot countplots\n",
    "def plot_countplot(df, data, columns):\n",
    "    '''\n",
    "        INPUTS\n",
    "        df: Dataframe\n",
    "        data: columns to plot\n",
    "        columns: number of columns to be plotted in subplots\n",
    "        OUTPUT\n",
    "        countplot graphs of all the columns of input\n",
    "                                                                    '''\n",
    "    # Making a figure to plot data into\n",
    "    fig = plt.figure(figsize = (20,10))\n",
    "    # number of rows in the subplot\n",
    "    rows = round(len(data)/columns)\n",
    "    for i, col in enumerate(data):\n",
    "        # Adding subplots of i figures\n",
    "        fig.add_subplot(rows,columns, i+1)\n",
    "        # using countplot of seaborn library and sorting the categories descendingly\n",
    "        sns.countplot(data = df, y = col, color = 'teal', order = df[col].value_counts().index)\n",
    "        # Assigning xlabels and ylabels\n",
    "        plt.xlabel('Frequency')\n",
    "    plt.suptitle('Frequencies for categorical features', fontsize = 16)"
   ]
  },
  {
   "cell_type": "code",
   "execution_count": null,
   "metadata": {},
   "outputs": [],
   "source": [
    "plot_countplot(df, categorical_features, 2)"
   ]
  },
  {
   "cell_type": "markdown",
   "metadata": {},
   "source": [
    "**Answer:**\n",
    "\n",
    "1) Polymer types used:\n",
    "\n",
    "* we can see that Ceramics is the most frequently used proppants are (Ceramics (51.6%) - Premium prop. (16.12%) - Premium plus prop. (12.9%)- ISP (4.8%) - Carbolite (4.8%)) and then come others.\n",
    "* we can also see that premium plus prop. could be used with other props. in the same job based on well conditions such as (RC and Ceramics plus).\n",
    "\n",
    "\n",
    "2) Polymer sizes used:\n",
    "\n",
    "* we can seee that the most commonly used sizes are (16/30 (57.2%) - 12/80 (20.9%) - 20/40 (12.1%)) and then come other mesh sizes.\n",
    "* we can also see here that we had to use various sizes in the same job based on well and operation conditions."
   ]
  },
  {
   "cell_type": "markdown",
   "metadata": {},
   "source": [
    "# Q2:\n",
    "**What is the relationship between proppant type/size and the formation?**\n"
   ]
  },
  {
   "cell_type": "code",
   "execution_count": null,
   "metadata": {},
   "outputs": [],
   "source": [
    "# Proppant types used with each foramtion\n",
    "proppant_types = pd.DataFrame(df.groupby(['main_formation', 'success'])['proppant_type'].value_counts().rename('Jobs'))\n",
    "proppant_types"
   ]
  },
  {
   "cell_type": "code",
   "execution_count": null,
   "metadata": {},
   "outputs": [],
   "source": [
    "# Proppant sizes used with each formation\n",
    "proppant_size = pd.DataFrame(df.groupby(['main_formation', 'success'])['proppant_size'].value_counts().rename('Jobs'))\n",
    "proppant_size"
   ]
  },
  {
   "cell_type": "markdown",
   "metadata": {},
   "source": [
    "**Answer:**\n",
    "* Apollonia: Premium prop. used with differnet sizes of 12/18 and 16/30 and did not experience any failed jobs!\n",
    "* AR: 33.3% of the jobs failed in such formation, and all the failed jobs were done by Ceramics although it succeeded in other jobs on same formation, as well failed proppant sizes succeeded on other occassions!\n",
    "* ARG: 12.8% of the jobs failed, and we can clearly see that premium propant failed in this formation.\n",
    "* Bahareya: 7.02% of the jobs faield, although the same propant type/size used in other jobs successfully.\n",
    "* Kharita: 80% of the jobs failed on this formation which could require further investigation.\n",
    "* Safa: 30% of the jobs failed with no reason related to prop. type or size."
   ]
  },
  {
   "cell_type": "markdown",
   "metadata": {},
   "source": [
    "# Q3:\n",
    "**What is the relationship between closure pressures, ISIP and max treating pressure vs. formation?**"
   ]
  },
  {
   "cell_type": "code",
   "execution_count": null,
   "metadata": {},
   "outputs": [],
   "source": [
    "closure_pressure_by_formation = df.groupby(['main_formation', 'success'])['closure_pressure_psig'].agg(['count', 'mean', 'min', 'max'])\n",
    "closure_pressure_by_formation"
   ]
  },
  {
   "cell_type": "code",
   "execution_count": null,
   "metadata": {},
   "outputs": [],
   "source": [
    "isip_by_formation = df.groupby(['main_formation', 'success'])['ISIP_psig'].agg(['count', 'mean', 'min', 'max'])\n",
    "isip_by_formation"
   ]
  },
  {
   "cell_type": "code",
   "execution_count": null,
   "metadata": {},
   "outputs": [],
   "source": [
    "max_treating_pressure_by_formation = df.groupby(['main_formation', 'success'])['max_treating_pressure_psig'].agg(['count', 'mean', 'min', 'max'])\n",
    "max_treating_pressure_by_formation"
   ]
  },
  {
   "cell_type": "markdown",
   "metadata": {},
   "source": [
    "**Answer:**\n",
    "\n",
    "*1. Closure Pressure & ISIP*\n",
    "\n",
    "Although avaialble colsure pressures are not so many, yet we can find some insights such that:\n",
    "* For successful jobs: Apollonia has the lowest average closure pressure with 2480 psig, then comes Bahareya with closure pressure of 3845 psig, while AR and Safa have similar closure pressures around 7900 psig.\n",
    "* For failed jobs: ARG and Safa have simialr closure pressures as well around 10200 psig, then comes Kharita with the highest value of 11237 psig.\n",
    "We can also see that ISIP values show similar behaviour!\n",
    "\n",
    "*2. Max treating Pressure*\n",
    "* For successful jobs, we can see that Safa and Kharita have the highest values around 9440 psig, then comes AR, ARG and Apollonia with values around 5820 psig. Then Baharayea comes with the least values of 4545 psig."
   ]
  },
  {
   "cell_type": "markdown",
   "metadata": {},
   "source": [
    "# Q4:\n",
    "**Indication of proppant volume and slurry volume for formations**"
   ]
  },
  {
   "cell_type": "code",
   "execution_count": null,
   "metadata": {},
   "outputs": [],
   "source": [
    "# Slurry volume injected into each formation\n",
    "slurry_vol_by_formation = df.groupby(['main_formation', 'success'])['slurry_vol_gal'].agg(['count'])\n",
    "slurry_vol_by_formation"
   ]
  },
  {
   "cell_type": "code",
   "execution_count": null,
   "metadata": {},
   "outputs": [],
   "source": [
    "# Slurry volume and designed pad volume injected against formations\n",
    "df_plot_slurry_vol = df.melt(id_vars='main_formation', value_vars=[\"slurry_vol_gal\", \"pad_volume\"])\n",
    "plt.figure(figsize = (20,8))\n",
    "sns.boxplot(x=\"main_formation\", y=\"value\", hue = 'variable', data = df_plot_slurry_vol);\n",
    "plt.ylabel('volume in gallons')\n",
    "plt.title('Designed pad volume & Slurry volume injected among various formations');"
   ]
  },
  {
   "cell_type": "code",
   "execution_count": null,
   "metadata": {},
   "outputs": [],
   "source": [
    "# Proppant mass injected into formations \n",
    "prop_mass_by_formation = df.groupby(['main_formation', 'success'])['propp_mass_lb'].agg(['count'])\n",
    "prop_mass_by_formation"
   ]
  },
  {
   "cell_type": "code",
   "execution_count": null,
   "metadata": {},
   "outputs": [],
   "source": [
    "# Designed and actual Proppant mass injected against formations\n",
    "df_plot_prop_mass = df.melt(id_vars='main_formation', value_vars=[\"propp_mass_lb\", \"propp_mass_design\"])\n",
    "plt.figure(figsize = (20,8))\n",
    "sns.boxplot(x=\"main_formation\", y=\"value\", hue = \"variable\", data = df_plot_prop_mass);\n",
    "plt.ylabel('mass in lbs')\n",
    "plt.title('Designed and actual Proppant mass injected among various formations');"
   ]
  },
  {
   "cell_type": "markdown",
   "metadata": {},
   "source": [
    "**Answer:**\n",
    "* We can see as illustrated in the above chart that actual slurrt volume injected into formation is usually higher than the designed pad volume for various formations except for Bahareya formation which needs further investigation.\n",
    "* We can also see that slighlty occurring with designed proppand mass and actual injected mass volume for Bahareya and AR fromations, while we don't have enough information about AR regarding slurry volume.\n",
    "* We can clearly see that AR is the formation which receives the highest injected slurry volume, then Apollonia, Safa, Kharita and ARG. This is not true for proppant pumped into formations since here it differs such that Apollonia comes first, Safa and then comes AR, we can also see that Kharita is the least receiver for proppant mass among all formations."
   ]
  },
  {
   "cell_type": "markdown",
   "metadata": {},
   "source": [
    "# Q5:\n",
    "**What is the relationship between max treating pressure, hhp, pumping rate and different formations?**"
   ]
  },
  {
   "cell_type": "code",
   "execution_count": null,
   "metadata": {},
   "outputs": [],
   "source": [
    "# Plotting amx treating pressure against slurry pumping rate for each formation\n",
    "plt.figure(figsize = (20,8))\n",
    "sns.scatterplot(x=\"slurry_rate_bpm\", y=\"max_treating_pressure_psig\", hue = \"main_formation\", data = df);\n",
    "plt.xticks(np.arange(5,60,5));\n",
    "plt.title('Slurry inj. rate vs. Max reached treating pressure');"
   ]
  },
  {
   "cell_type": "code",
   "execution_count": null,
   "metadata": {},
   "outputs": [],
   "source": [
    "# Setting labels orders to avoid misleading legends\n",
    "labels = df['main_formation'].unique().tolist()[1:]\n",
    "g = sns.FacetGrid(df, col=\"success\", height = 8, aspect = 1)\n",
    "g.map_dataframe(sns.scatterplot, x=\"slurry_rate_bpm\", y=\"max_treating_pressure_psig\", hue = \"main_formation\", hue_order = labels)\n",
    "g.set_axis_labels(\"slurry_rate_bpm\", \"max_treating_pressure_psig\")\n",
    "g.add_legend();"
   ]
  },
  {
   "cell_type": "code",
   "execution_count": null,
   "metadata": {},
   "outputs": [],
   "source": [
    "# Plotting amx treating pressure against slurry pumping rate for each formation\n",
    "plt.figure(figsize = (20,8))\n",
    "sns.scatterplot(x=\"slurry_rate_bpm\", y=\"avg_hhp\", hue = \"main_formation\", data = df);\n",
    "plt.xticks(np.arange(5,60,5));\n",
    "plt.title('Slurry inj. rate vs. Max reached treating pressure');"
   ]
  },
  {
   "cell_type": "code",
   "execution_count": null,
   "metadata": {},
   "outputs": [],
   "source": [
    "# Plotting HHP against slurry pumping rate for each formation\n",
    "plt.figure(figsize = (20,8))\n",
    "sns.scatterplot(x=\"max_treating_pressure_psig\", y=\"avg_hhp\", hue = \"main_formation\", data = df);\n",
    "plt.title('Slurry inj. rate vs. HHP');"
   ]
  },
  {
   "cell_type": "markdown",
   "metadata": {},
   "source": [
    "**Answer:**\n",
    "\n",
    "As expected from the strong correlation betweeb max treatin pressure, HHP and slurry rate, we can see positive trend in the above charts clearly!\n",
    "* we can see that for the same formation, some jobs required high slurry rates while other were done using lower rates yet we can see that Safa formation usually require higher pumping rate than other formations. As well, Kharita & Apollonia usually require the lowest pumping rates. on the other hand, we can see that Bahareya, and AR usually require stable pumping rate between 20 to 40 bpm."
   ]
  },
  {
   "cell_type": "markdown",
   "metadata": {},
   "source": [
    "# Q6:\n",
    "**What is the relationship between fluid efficiency and other variables and its effect on max treating pressure?**"
   ]
  },
  {
   "cell_type": "code",
   "execution_count": null,
   "metadata": {},
   "outputs": [],
   "source": [
    "# Plotting amx treating pressure against slurry pumping rate for each formation\n",
    "plt.figure(figsize = (20,8))\n",
    "sns.scatterplot(x=\"fluid_eff\", y=\"propp_mass_lb\", size = \"max_treating_pressure_psig\", data = df[df['success']==1], alpha=0.5, sizes=(5, 1000));\n",
    "plt.title('Fluid Eff vs. Max Treating pressure with Proppant mass injected');"
   ]
  },
  {
   "cell_type": "code",
   "execution_count": null,
   "metadata": {},
   "outputs": [],
   "source": [
    "plt.figure(figsize = (20,8))\n",
    "sns.scatterplot(x=\"fluid_eff\", y=\"proppant_type\", size = \"max_treating_pressure_psig\", data = df, alpha=0.5, sizes=(20, 600))\n",
    "plt.title('Fluid Eff vs. Max Treating pressure with Proppant types');"
   ]
  },
  {
   "cell_type": "code",
   "execution_count": null,
   "metadata": {},
   "outputs": [],
   "source": [
    "plt.figure(figsize = (20,8))\n",
    "sns.scatterplot(x=\"fluid_eff\", y=\"proppant_size\", size = \"max_treating_pressure_psig\", data = df, alpha=0.5, sizes=(20, 600))\n",
    "plt.title('Fluid Eff vs. Max Treating pressure with Proppant types');"
   ]
  },
  {
   "cell_type": "code",
   "execution_count": null,
   "metadata": {},
   "outputs": [],
   "source": [
    "# Plotting amx treating pressure against slurry pumping rate for each formation\n",
    "plt.figure(figsize = (20,8))\n",
    "sns.scatterplot(x=\"fluid_eff\", y=\"slurry_rate_bpm\", data = df,);\n",
    "plt.title('Fluid Eff vs. slurry inj. rate');"
   ]
  },
  {
   "cell_type": "markdown",
   "metadata": {},
   "source": [
    "**Answer:**\n",
    "* We can observe that as fluid efficiency increases, max treating pressure reached on surface decreases as well as saving cost by reducing amount of proppant mass injected! The highest proppant mass used are usually accompanied with low fluid efficiencies.\n",
    "* we can see that some proppant types such as ISP usually accomplish low fluid efficiency and low treating pressure, while HSP and Ceramics usually require higher treating pressures!\n",
    "* We can also see that proppant size of 12/18 and 16/30 could achieve high fluid efficiencies with intermediate treatment pressure, while mesh size of 20/40 usually achieve low fluid efficiency and very high treating pressures!\n",
    "* we can see that there is no reationship between increasing slurry injection rate and the fluid efficiency since we achieve same fluid efficincies with various inj. rates!"
   ]
  },
  {
   "cell_type": "markdown",
   "metadata": {},
   "source": [
    "# Q7:\n",
    "**Does propant type/size affect closure pressure? And what role does frac type have?**"
   ]
  },
  {
   "cell_type": "code",
   "execution_count": null,
   "metadata": {},
   "outputs": [],
   "source": [
    "plt.figure(figsize = (20,8))\n",
    "sns.scatterplot(x=\"closure_pressure_psig\", y=\"proppant_size\", hue = \"main_formation\", data = df[df['success']==1]);\n",
    "plt.title('Proppant size vs. closure pressure and proppant type for successful jobs');"
   ]
  },
  {
   "cell_type": "code",
   "execution_count": null,
   "metadata": {},
   "outputs": [],
   "source": [
    "plt.figure(figsize = (20,8))\n",
    "sns.scatterplot(x=\"closure_pressure_psig\", y=\"proppant_type\", hue = \"main_formation\", data = df[df['success']==1]);\n",
    "plt.title('Proppant size vs. closure pressure and proppant type for successful jobs');"
   ]
  },
  {
   "cell_type": "code",
   "execution_count": null,
   "metadata": {},
   "outputs": [],
   "source": [
    "plt.figure(figsize = (20,8))\n",
    "sns.scatterplot(x=\"frac_type\", y=\"closure_pressure_psig\", hue = 'main_formation', data = df);\n",
    "plt.title('Frac type vs. closure pressure and proppant type for successful jobs');"
   ]
  },
  {
   "cell_type": "code",
   "execution_count": null,
   "metadata": {},
   "outputs": [],
   "source": [
    "plt.figure(figsize = (20,8))\n",
    "sns.scatterplot(x=\"frac_type\", y=\"fluid_eff\", data = df);\n",
    "plt.title('Effect of frac type on fluid efficiency');"
   ]
  },
  {
   "cell_type": "markdown",
   "metadata": {},
   "source": [
    "**Answer:**\n",
    "* We can see that for the same formation and successful operations, changing proppant size affected the closure pressure, sch that for Bahareya; 16/20 and 16/30 sizes caused very low closure pressure, yet a size of 20/40 tripled the closure pressure!\n",
    "* we can also see that this is affected by proppant type such that Carbolite and premium caused small closure values.\n",
    "* Yet we can see that this case of high closure pressure is a case of foam injection! yet we can see from the above chart that foam is not necessarily to cause increase in closure pressure, so it could be characteristics of the formatiom/prop type, size!\n",
    "* we can therafter see that fluid efficiency of hiway frac is usually very low compared to conventional frac!"
   ]
  }
 ],
 "metadata": {
  "kernelspec": {
   "display_name": "Python 3 (ipykernel)",
   "language": "python",
   "name": "python3"
  },
  "language_info": {
   "codemirror_mode": {
    "name": "ipython",
    "version": 3
   },
   "file_extension": ".py",
   "mimetype": "text/x-python",
   "name": "python",
   "nbconvert_exporter": "python",
   "pygments_lexer": "ipython3",
   "version": "3.9.13"
  }
 },
 "nbformat": 4,
 "nbformat_minor": 4
}
